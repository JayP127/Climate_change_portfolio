{
  "nbformat": 4,
  "nbformat_minor": 0,
  "metadata": {
    "colab": {
      "provenance": [],
      "authorship_tag": "ABX9TyNMbdqRDzChSY2W06V60O2M",
      "include_colab_link": true
    },
    "kernelspec": {
      "name": "python3",
      "display_name": "Python 3"
    },
    "language_info": {
      "name": "python"
    }
  },
  "cells": [
    {
      "cell_type": "markdown",
      "metadata": {
        "id": "view-in-github",
        "colab_type": "text"
      },
      "source": [
        "<a href=\"https://colab.research.google.com/github/JayP127/Climate_change_portfolio/blob/main/PortfolioOptimizationScipy17.ipynb\" target=\"_parent\"><img src=\"https://colab.research.google.com/assets/colab-badge.svg\" alt=\"Open In Colab\"/></a>"
      ]
    },
    {
      "cell_type": "markdown",
      "source": [
        "# Portfolio for climate change problem- Minimizing cost of CO2 abatement"
      ],
      "metadata": {
        "id": "4GSABiIAcmor"
      }
    },
    {
      "cell_type": "code",
      "source": [
        "from scipy.optimize import minimize\n",
        "import numpy as np\n",
        "\n",
        "# Dictionary of companies and their CERj values\n",
        "company_cerj = {\n",
        "    \"1. Oatly\": 52,\n",
        "    \"2. Beyond Meat\": 54,\n",
        "    \"3. First Solar\": 15,\n",
        "    \"4. Vestas\": 6,\n",
        "    \"6. Giant\": 44,\n",
        "    \"7. Goldwind\": 1.63,\n",
        "    \"8. Nordex\": 1.54,\n",
        "    \"9. Jinkosolar\": 2.43,\n",
        "    \"10. Trina Sol\": 0.80,\n",
        "    \"11. Longi\": 1.65,\n",
        "    \"12. Canada Sol\": 0.47,\n",
        "    \"13. Nio\": 171,\n",
        "    \"16. Xpeng\": 154,\n",
        "    \"17. Ormat\": 184,\n",
        "    \"18. Kingspan\": 84,\n",
        "    \"19. BlueEarth\": 87,\n",
        "    \"20. Orsted\": 248\n",
        "}\n",
        "\n",
        "# Extract companies and cerj_values from the dictionary\n",
        "companies = list(company_cerj.keys())\n",
        "cerj_values = list(company_cerj.values())\n",
        "\n",
        "# Define the objective function\n",
        "def objective(w):\n",
        "    return 1.0 / sum([w[i]/cerj_values[i] for i in range(len(w))])\n",
        "\n",
        "# Define the equality constraint\n",
        "def constraint(w):\n",
        "    return sum(w) - 1.0\n",
        "\n",
        "# Initial guess for w\n",
        "w0 = np.array([0.05] * len(companies))\n",
        "\n",
        "# Define the bounds and constraints\n",
        "bounds = [(0.01, 0.10) for _ in range(len(companies))]\n",
        "constraints = {'type': 'eq', 'fun': constraint}\n",
        "\n",
        "# Perform the optimization\n",
        "result = minimize(objective, w0, method='SLSQP', bounds=bounds, constraints=constraints)\n",
        "\n",
        "# Print the results\n",
        "if result.success:\n",
        "    optimized_weights = result.x\n",
        "    print(\"Optimization converged successfully!\")\n",
        "\n",
        "    # Print the table header\n",
        "    print(\"\\n+----------------+-------+--------+\")\n",
        "    print(\"| Company        | CERj  | Weight |\")\n",
        "    print(\"+----------------+-------+--------+\")\n",
        "\n",
        "    # Print each company, its CERj value, and its weight\n",
        "    for i, weight in enumerate(optimized_weights):\n",
        "        print(f\"| {companies[i]:<14} | {cerj_values[i]:<5} | {weight:.4f} |\")\n",
        "\n",
        "    print(\"+----------------+-------+--------+\")\n",
        "\n",
        "    print(\"\\nObjective function value at optimized weights:\", objective(optimized_weights))\n",
        "    print(f\"Number of iterations: {result.nit}\")\n",
        "    print(f\"Status: {result.status} ({result.message})\")\n",
        "else:\n",
        "    print(\"Optimization did not converge.\")\n",
        "    print(\"Message:\", result.message)\n"
      ],
      "metadata": {
        "id": "v1zP8ve7UhrD",
        "colab": {
          "base_uri": "https://localhost:8080/"
        },
        "outputId": "d4bc0901-7ff2-4475-fddc-9da06281b29a"
      },
      "execution_count": null,
      "outputs": [
        {
          "output_type": "stream",
          "name": "stdout",
          "text": [
            "Optimization converged successfully!\n",
            "\n",
            "+----------------+-------+--------+\n",
            "| Company        | CERj  | Weight |\n",
            "+----------------+-------+--------+\n",
            "| 1. Oatly       | 52    | 0.0300 |\n",
            "| 2. Beyond Meat | 54    | 0.0100 |\n",
            "| 3. First Solar | 15    | 0.1000 |\n",
            "| 4. Vestas      | 6     | 0.1000 |\n",
            "| 6. Giant       | 44    | 0.1000 |\n",
            "| 7. Goldwind    | 1.63  | 0.1000 |\n",
            "| 8. Nordex      | 1.54  | 0.1000 |\n",
            "| 9. Jinkosolar  | 2.43  | 0.1000 |\n",
            "| 10. Trina Sol  | 0.8   | 0.1000 |\n",
            "| 11. Longi      | 1.65  | 0.1000 |\n",
            "| 12. Canada Sol | 0.47  | 0.1000 |\n",
            "| 13. Nio        | 171   | 0.0100 |\n",
            "| 16. Xpeng      | 154   | 0.0100 |\n",
            "| 17. Ormat      | 184   | 0.0100 |\n",
            "| 18. Kingspan   | 84    | 0.0100 |\n",
            "| 19. BlueEarth  | 87    | 0.0100 |\n",
            "| 20. Orsted     | 248   | 0.0100 |\n",
            "+----------------+-------+--------+\n",
            "\n",
            "Objective function value at optimized weights: 1.6873955229961857\n",
            "Number of iterations: 6\n",
            "Status: 0 (Optimization terminated successfully)\n"
          ]
        }
      ]
    },
    {
      "cell_type": "code",
      "source": [],
      "metadata": {
        "id": "biKpKL5fIxXB"
      },
      "execution_count": null,
      "outputs": []
    }
  ]
}