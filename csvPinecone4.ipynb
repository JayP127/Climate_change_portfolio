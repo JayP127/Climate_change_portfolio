{
  "nbformat": 4,
  "nbformat_minor": 0,
  "metadata": {
    "colab": {
      "provenance": [],
      "gpuType": "A100",
      "mount_file_id": "13sD5jiGR6d8atsuXjKIH5umDattrNJ4q",
      "authorship_tag": "ABX9TyMRE1+koEMDpC7lw7h4MPFG",
      "include_colab_link": true
    },
    "kernelspec": {
      "name": "python3",
      "display_name": "Python 3"
    },
    "language_info": {
      "name": "python"
    }
  },
  "cells": [
    {
      "cell_type": "markdown",
      "metadata": {
        "id": "view-in-github",
        "colab_type": "text"
      },
      "source": [
        "<a href=\"https://colab.research.google.com/github/JayP127/cfp/blob/main/csvPinecone4.ipynb\" target=\"_parent\"><img src=\"https://colab.research.google.com/assets/colab-badge.svg\" alt=\"Open In Colab\"/></a>"
      ]
    },
    {
      "cell_type": "markdown",
      "source": [
        "# Introduction\n",
        "This Google Colab notebook presents an innovative approach to evaluating the availability and accessibility of carbon footprint information for various products, a pressing need in our increasingly environmentally-conscious society. This investigation contributes to sustainability and transparency, empowering consumers and companies with vital knowledge to make informed decisions that minimize environmental impact.\n",
        "\n",
        "The foundation of this notebook is Python, a versatile and widely-accepted language known for its simplicity and robustness. Leveraging the capabilities of Python, we've harnessed the power of the Langchain library, a tool that has been instrumental in handling language processing tasks. This has enabled us to engage with data in a meaningful and insightful manner, drawing accurate and valuable conclusions.\n",
        "\n",
        "Our approach uses an Agent that employs three distinct tools for information retrieval.\n",
        "\n",
        "**Pinecone Vectorstore:** This tool stores and manages vector embeddings of data that represent the carbon footprint of different products. The embeddings are derived from several comprehensive datasets, including GWP100 Global warming potential average of CML v4.8 2006, EDIP 2003, IPCC2021, and ReCiPe 2016 v1.3. Pinecone's efficient similarity search capabilities help us find the most relevant information expediently.\n",
        "\n",
        "**Google Search Tool:** A vital and expansive source of information, the Google Search Tool serves as our gateway to the vast information available on the internet. This allows our Agent to broaden its search and cover more ground.\n",
        "\n",
        "**Calculator:** Last but not least, our Agent incorporates a calculator tool to perform necessary computations and produce accurate estimates when needed.\n",
        "\n",
        "Our Agent is designed to deliver the best possible answer to queries about product carbon footprints, striving to cite sources wherever possible. The amalgamation of these techniques provides a rich, comprehensive picture of the carbon footprint information landscape.\n",
        "\n",
        "In this notebook, we take you through the entire process: from how we've integrated these different tools to form a robust, effective Agent to how we've leveraged this Agent to uncover and evaluate the carbon footprint data. Join us as we delve into the fascinating world of data, sustainability, and the power of informed decisions.\n"
      ],
      "metadata": {
        "id": "AuklGnUJZm-J"
      }
    },
    {
      "cell_type": "code",
      "execution_count": null,
      "metadata": {
        "id": "QI2Dq3tUE7Ca"
      },
      "outputs": [],
      "source": [
        "!pip -q install openai python-dotenv langchain google-search-results pinecone-client tiktoken pinecone-text wolframalpha"
      ]
    },
    {
      "cell_type": "code",
      "source": [
        "import os\n",
        "from dotenv import load_dotenv, find_dotenv\n",
        "_ = load_dotenv(find_dotenv()) # read local .env file\n"
      ],
      "metadata": {
        "id": "mP7ReBK9GT6L"
      },
      "execution_count": null,
      "outputs": []
    },
    {
      "cell_type": "code",
      "source": [
        "from langchain.vectorstores import Pinecone\n",
        "from langchain.embeddings import OpenAIEmbeddings\n",
        "from langchain.llms import OpenAI\n",
        "from langchain.document_loaders.csv_loader import CSVLoader\n",
        "from langchain.text_splitter import RecursiveCharacterTextSplitter\n",
        "from langchain.chains import RetrievalQA\n",
        "from langchain.agents import ZeroShotAgent, Tool, AgentExecutor\n",
        "from langchain.agents import AgentType\n",
        "from langchain.tools import BaseTool\n",
        "from langchain import SerpAPIWrapper\n",
        "from langchain import LLMChain"
      ],
      "metadata": {
        "id": "UKytqppIGdKL"
      },
      "execution_count": null,
      "outputs": []
    },
    {
      "cell_type": "code",
      "source": [
        "embeddings = OpenAIEmbeddings()"
      ],
      "metadata": {
        "id": "VzrGz7WwFvqU"
      },
      "execution_count": null,
      "outputs": []
    },
    {
      "cell_type": "code",
      "source": [
        "import pinecone\n",
        "# initialize pinecone\n",
        "pinecone.init(\n",
        "    api_key=os.environ['PINECONE_API_KEY'],\n",
        "    environment=os.environ['PINECONE_ENV'],\n",
        ")\n",
        "\n",
        "index_name = \"cfp\""
      ],
      "metadata": {
        "colab": {
          "base_uri": "https://localhost:8080/"
        },
        "id": "Zh7CjqptFy2K",
        "outputId": "9eed82d3-94fb-47c8-9aa5-b2daef20ade3"
      },
      "execution_count": null,
      "outputs": [
        {
          "output_type": "stream",
          "name": "stderr",
          "text": [
            "/usr/local/lib/python3.10/dist-packages/pinecone/index.py:4: TqdmExperimentalWarning: Using `tqdm.autonotebook.tqdm` in notebook mode. Use `tqdm.tqdm` instead to force console mode (e.g. in jupyter console)\n",
            "  from tqdm.autonotebook import tqdm\n"
          ]
        }
      ]
    },
    {
      "cell_type": "markdown",
      "source": [
        "# Uploading the vectorstore- only needed for the initialization"
      ],
      "metadata": {
        "id": "AyhKvgUeL50N"
      }
    },
    {
      "cell_type": "code",
      "source": [
        "loader = CSVLoader('/content/drive/MyDrive/CFP_CSVs/binder3.csv')"
      ],
      "metadata": {
        "id": "_gdVljJVHUIW"
      },
      "execution_count": null,
      "outputs": []
    },
    {
      "cell_type": "code",
      "source": [
        "documents = loader.load()"
      ],
      "metadata": {
        "id": "8UX5L7ZhD-iK"
      },
      "execution_count": null,
      "outputs": []
    },
    {
      "cell_type": "code",
      "source": [
        "text_splitter = RecursiveCharacterTextSplitter(chunk_size=1000, chunk_overlap=0)"
      ],
      "metadata": {
        "id": "Ec4toPAQ3y_u"
      },
      "execution_count": null,
      "outputs": []
    },
    {
      "cell_type": "code",
      "source": [
        "products=text_splitter.split_documents(documents)"
      ],
      "metadata": {
        "id": "yhqtaaqXDpHW"
      },
      "execution_count": null,
      "outputs": []
    },
    {
      "cell_type": "code",
      "source": [
        "print(products[0])\n",
        "print(products[1])\n",
        "print(products[2])"
      ],
      "metadata": {
        "colab": {
          "base_uri": "https://localhost:8080/"
        },
        "id": "PAM_FzlCEhqc",
        "outputId": "f420daaf-8fb3-49ad-8efa-e0e185cf2660"
      },
      "execution_count": null,
      "outputs": [
        {
          "output_type": "stream",
          "name": "stdout",
          "text": [
            "page_content='\\ufeff: 0\\nGeography: USA\\nproduct_name: Frosted Flakes, 23 oz, produced in Lancaster, PA (one carton)---Kellogg Company\\nreference_product_unit: unit\\nCarbon Footprint of Product (kg CO2-Eq): 2.67\\nSource of information: Meinrenken, Christoph J., Daniel Chen, Ricardo A. Esparza, Venkat Iyer, Sally P. Paridis, Aruna Prasad, and Erika Whillas. \"The Carbon Catalogue, carbon footprints of 866 commercial products from 8 industry sectors and 5 continents.\"Â\\xa0Scientific DataÂ\\xa09, no. 1 (2022): 87.' metadata={'source': '/content/drive/MyDrive/CFP_CSVs/binder3.csv', 'row': 0}\n",
            "page_content='\\ufeff: 1\\nGeography: USA\\nproduct_name: Office Chair---KNOLL INC\\nreference_product_unit: unit\\nCarbon Footprint of Product (kg CO2-Eq): 3.51\\nSource of information: Meinrenken, Christoph J., Daniel Chen, Ricardo A. Esparza, Venkat Iyer, Sally P. Paridis, Aruna Prasad, and Erika Whillas. \"The Carbon Catalogue, carbon footprints of 866 commercial products from 8 industry sectors and 5 continents.\"Â\\xa0Scientific DataÂ\\xa09, no. 1 (2022): 87.' metadata={'source': '/content/drive/MyDrive/CFP_CSVs/binder3.csv', 'row': 1}\n",
            "page_content='\\ufeff: 2\\nGeography: Japan\\nproduct_name: Multifunction Printers---Konica Minolta, Inc.\\nreference_product_unit: unit\\nCarbon Footprint of Product (kg CO2-Eq): 13.53\\nSource of information: Meinrenken, Christoph J., Daniel Chen, Ricardo A. Esparza, Venkat Iyer, Sally P. Paridis, Aruna Prasad, and Erika Whillas. \"The Carbon Catalogue, carbon footprints of 866 commercial products from 8 industry sectors and 5 continents.\"Â\\xa0Scientific DataÂ\\xa09, no. 1 (2022): 87.' metadata={'source': '/content/drive/MyDrive/CFP_CSVs/binder3.csv', 'row': 2}\n"
          ]
        }
      ]
    },
    {
      "cell_type": "markdown",
      "source": [
        "Initial uploading to the vector store"
      ],
      "metadata": {
        "id": "E2Ody4dJ1LrK"
      }
    },
    {
      "cell_type": "code",
      "source": [
        "docsearch = Pinecone.from_documents(products, embeddings, index_name=index_name)"
      ],
      "metadata": {
        "id": "_tJL_Z_ffJUX",
        "colab": {
          "base_uri": "https://localhost:8080/"
        },
        "outputId": "82fd9bd3-3e83-4464-c846-a015aa37562e"
      },
      "execution_count": null,
      "outputs": [
        {
          "output_type": "stream",
          "name": "stderr",
          "text": [
            "WARNING:langchain.embeddings.openai:Retrying langchain.embeddings.openai.embed_with_retry.<locals>._embed_with_retry in 4.0 seconds as it raised RateLimitError: The server had an error while processing your request. Sorry about that!.\n",
            "WARNING:langchain.embeddings.openai:Retrying langchain.embeddings.openai.embed_with_retry.<locals>._embed_with_retry in 4.0 seconds as it raised RateLimitError: The server had an error while processing your request. Sorry about that!.\n",
            "WARNING:langchain.embeddings.openai:Retrying langchain.embeddings.openai.embed_with_retry.<locals>._embed_with_retry in 4.0 seconds as it raised RateLimitError: The server had an error while processing your request. Sorry about that!.\n",
            "WARNING:langchain.embeddings.openai:Retrying langchain.embeddings.openai.embed_with_retry.<locals>._embed_with_retry in 4.0 seconds as it raised RateLimitError: The server had an error while processing your request. Sorry about that!.\n"
          ]
        }
      ]
    },
    {
      "cell_type": "markdown",
      "source": [
        "Example of an initial basic query"
      ],
      "metadata": {
        "id": "YSky7ALfogA9"
      }
    },
    {
      "cell_type": "code",
      "source": [
        "query= \"what is the carbon footprint of jeans\"\n",
        "products = docsearch.similarity_search(query)"
      ],
      "metadata": {
        "id": "ZrTbaHZ5meY7"
      },
      "execution_count": null,
      "outputs": []
    },
    {
      "cell_type": "code",
      "source": [
        "print(products[0].page_content)"
      ],
      "metadata": {
        "colab": {
          "base_uri": "https://localhost:8080/"
        },
        "id": "VnTbbgIwm4oU",
        "outputId": "5bb9b7fd-eef2-43f4-bf94-a52c18b8d788"
      },
      "execution_count": null,
      "outputs": [
        {
          "output_type": "stream",
          "name": "stdout",
          "text": [
            "﻿: 10\n",
            "Geography: USA\n",
            "product_name: 501Â® Original Jeans â€“ Rinse Run---Levi Strauss & Co.\n",
            "reference_product_unit: unit\n",
            "Carbon Footprint of Product (kg CO2-Eq): 15.05\n",
            "Source of information: Meinrenken, Christoph J., Daniel Chen, Ricardo A. Esparza, Venkat Iyer, Sally P. Paridis, Aruna Prasad, and Erika Whillas. \"The Carbon Catalogue, carbon footprints of 866 commercial products from 8 industry sectors and 5 continents.\"Â Scientific DataÂ 9, no. 1 (2022): 87.\n"
          ]
        }
      ]
    },
    {
      "cell_type": "markdown",
      "source": [
        "# Once the index is created in the Vector Store, you can create an access to it"
      ],
      "metadata": {
        "id": "kHzX7czcnNmh"
      }
    },
    {
      "cell_type": "code",
      "source": [
        "llm = OpenAI(model_name=\"text-davinci-003\", n=2, best_of=2)"
      ],
      "metadata": {
        "id": "TmjKXJGEcKWa"
      },
      "execution_count": null,
      "outputs": []
    },
    {
      "cell_type": "code",
      "source": [
        "docsearch = Pinecone.from_existing_index(index_name, embeddings)\n",
        "\n",
        "climate_change = RetrievalQA.from_chain_type(\n",
        "    llm=llm, chain_type=\"stuff\", retriever=docsearch.as_retriever()\n",
        ")"
      ],
      "metadata": {
        "id": "hPcxbw-rnldy"
      },
      "execution_count": null,
      "outputs": []
    },
    {
      "cell_type": "markdown",
      "source": [
        "# Create the Agent"
      ],
      "metadata": {
        "id": "QQ07pQR-AJ5p"
      }
    },
    {
      "cell_type": "code",
      "source": [
        "search = SerpAPIWrapper()\n",
        "llm = OpenAI(temperature=0)\n",
        "from langchain.utilities.wolfram_alpha import WolframAlphaAPIWrapper"
      ],
      "metadata": {
        "id": "DuKQy7s-k4d_"
      },
      "execution_count": null,
      "outputs": []
    },
    {
      "cell_type": "code",
      "source": [
        "wolfram = WolframAlphaAPIWrapper()"
      ],
      "metadata": {
        "id": "Ba1LxeNq6xw8"
      },
      "execution_count": null,
      "outputs": []
    },
    {
      "cell_type": "code",
      "source": [
        "wolfram.run(\"convert 0.855 pounds/kWh to kg/kWh\")"
      ],
      "metadata": {
        "colab": {
          "base_uri": "https://localhost:8080/",
          "height": 36
        },
        "id": "rd-FWWRK1j5H",
        "outputId": "922c874c-1039-47b9-ff48-537b8cd86369"
      },
      "execution_count": null,
      "outputs": [
        {
          "output_type": "execute_result",
          "data": {
            "text/plain": [
              "'Assumption: convert 0.855 lb/(h kW) (pounds per kilowatt hour) to kilograms per kilowatt hour \\nAnswer: 0.3878 kg/(kW h) (kilograms per kilowatt hour)'"
            ],
            "application/vnd.google.colaboratory.intrinsic+json": {
              "type": "string"
            }
          },
          "metadata": {},
          "execution_count": 18
        }
      ]
    },
    {
      "cell_type": "code",
      "source": [
        "tools = [\n",
        "    Tool.from_function(\n",
        "        func=climate_change.run,\n",
        "        name=\"cfp_pinecone\",\n",
        "        description=\"useful for answering questions about the carbon footprint of products and its Source of information. Input should be a fully formed question.\",\n",
        "    ),\n",
        "    Tool.from_function(\n",
        "        func=search.run,\n",
        "        name=\"Search\",\n",
        "        description=\"useful for when you need to answer questions about current events\",\n",
        "    ),\n",
        "    Tool.from_function(\n",
        "        func=wolfram.run,\n",
        "        name=\"calculator\",\n",
        "        description=\"useful for when you need to perform a calculation\",\n",
        "    ),\n",
        "]"
      ],
      "metadata": {
        "id": "0qZ0PIEAAa-h"
      },
      "execution_count": null,
      "outputs": []
    },
    {
      "cell_type": "code",
      "source": [
        "prefix = \"\"\"Answer the following questions as best you can and include in the answer the Source of information. You have access to the following tools:\"cfp_pinecone\", \"Search\", \"calculator\".\"\"\"\n",
        "suffix = \"\"\"Begin! include the Source of information in your answer.\n",
        "\n",
        "Question: {input}\n",
        "{agent_scratchpad}\"\"\"\n",
        "\n",
        "prompt = ZeroShotAgent.create_prompt(\n",
        "    tools, prefix=prefix, suffix=suffix, input_variables=[\"input\", \"agent_scratchpad\"]\n",
        ")"
      ],
      "metadata": {
        "id": "w7tgHwnTnggl"
      },
      "execution_count": null,
      "outputs": []
    },
    {
      "cell_type": "code",
      "source": [
        "print(prompt.template)"
      ],
      "metadata": {
        "colab": {
          "base_uri": "https://localhost:8080/"
        },
        "id": "vtd6Heheo2gp",
        "outputId": "e6211ac6-d7bc-436a-dde8-c67aa5b3d5bc"
      },
      "execution_count": null,
      "outputs": [
        {
          "output_type": "stream",
          "name": "stdout",
          "text": [
            "Answer the following questions as best you can and include in the answer the Source of information. You have access to the following tools:\"cfp_pinecone\", \"Search\", \"calculator\".\n",
            "\n",
            "cfp_pinecone: useful for answering questions about the carbon footprint of products and its Source of information. Input should be a fully formed question.\n",
            "Search: useful for when you need to answer questions about current events\n",
            "calculator: useful for when you need to perform a calculation\n",
            "\n",
            "Use the following format:\n",
            "\n",
            "Question: the input question you must answer\n",
            "Thought: you should always think about what to do\n",
            "Action: the action to take, should be one of [cfp_pinecone, Search, calculator]\n",
            "Action Input: the input to the action\n",
            "Observation: the result of the action\n",
            "... (this Thought/Action/Action Input/Observation can repeat N times)\n",
            "Thought: I now know the final answer\n",
            "Final Answer: the final answer to the original input question\n",
            "\n",
            "Begin! include the Source of information in your answer.\n",
            "\n",
            "Question: {input}\n",
            "{agent_scratchpad}\n"
          ]
        }
      ]
    },
    {
      "cell_type": "code",
      "source": [
        "llm_chain = LLMChain(llm=OpenAI(temperature=0), prompt=prompt)"
      ],
      "metadata": {
        "id": "dK5N-uMrjyf6"
      },
      "execution_count": null,
      "outputs": []
    },
    {
      "cell_type": "code",
      "source": [
        "tool_names = [tool.name for tool in tools]\n",
        "agent = ZeroShotAgent(llm_chain=llm_chain, allowed_tools=tool_names)"
      ],
      "metadata": {
        "id": "3XmEYPQapmwY"
      },
      "execution_count": null,
      "outputs": []
    },
    {
      "cell_type": "code",
      "source": [
        "agent_executor = AgentExecutor.from_agent_and_tools(\n",
        "    agent=agent, tools=tools, verbose=True\n",
        ")"
      ],
      "metadata": {
        "id": "H2yLlpdYpqLu"
      },
      "execution_count": null,
      "outputs": []
    },
    {
      "cell_type": "code",
      "source": [
        "agent_executor.run(\"what is the average carbon footprint of cattle in Brazil\")"
      ],
      "metadata": {
        "colab": {
          "base_uri": "https://localhost:8080/",
          "height": 333
        },
        "id": "bDCSSVHmpsCD",
        "outputId": "62531cc7-3436-45ae-c455-d4bd4c002df2"
      },
      "execution_count": null,
      "outputs": [
        {
          "output_type": "stream",
          "name": "stdout",
          "text": [
            "\n",
            "\n",
            "\u001b[1m> Entering new  chain...\u001b[0m\n",
            "\u001b[32;1m\u001b[1;3mThought: I need to find out the carbon footprint of cattle in Brazil\n",
            "Action: Search\n",
            "Action Input: \"carbon footprint of cattle in Brazil\"\u001b[0m\n",
            "Observation: \u001b[33;1m\u001b[1;3mBut cattle ranching has a climate problem: Livestock supply chains are responsible for 14.5% of global greenhouse gas emissions and account for as much as one third of total emissions in Latin America, totaling hundreds of millions of tons of carbon dioxide each year.\u001b[0m\n",
            "Thought:\u001b[32;1m\u001b[1;3m I need to find out the average carbon footprint of cattle in Brazil\n",
            "Action: Search\n",
            "Action Input: \"average carbon footprint of cattle in Brazil\"\u001b[0m\n",
            "Observation: \u001b[33;1m\u001b[1;3mCarbon Footprints of Beef Life cycle GHG emissions of Brazilian beef not including LUC, i.e., comprising methane, nitrous oxide, and fossil CO2, have been estimated at around 28 kg CO2e per kg CW at the farm-gate as a national average.\u001b[0m\n",
            "Thought:\u001b[32;1m\u001b[1;3m I now know the final answer\n",
            "Final Answer: The average carbon footprint of cattle in Brazil is 28 kg CO2e per kg CW at the farm-gate. Source: Carbon Footprints of Beef Life cycle GHG emissions of Brazilian beef not including LUC, i.e., comprising methane, nitrous oxide, and fossil CO2.\u001b[0m\n",
            "\n",
            "\u001b[1m> Finished chain.\u001b[0m\n"
          ]
        },
        {
          "output_type": "execute_result",
          "data": {
            "text/plain": [
              "'The average carbon footprint of cattle in Brazil is 28 kg CO2e per kg CW at the farm-gate. Source: Carbon Footprints of Beef Life cycle GHG emissions of Brazilian beef not including LUC, i.e., comprising methane, nitrous oxide, and fossil CO2.'"
            ],
            "application/vnd.google.colaboratory.intrinsic+json": {
              "type": "string"
            }
          },
          "metadata": {},
          "execution_count": 25
        }
      ]
    }
  ]
}