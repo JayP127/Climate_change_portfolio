{
  "nbformat": 4,
  "nbformat_minor": 0,
  "metadata": {
    "colab": {
      "provenance": [],
      "authorship_tag": "ABX9TyMBXokN0khOT2zSONRcTZVU",
      "include_colab_link": true
    },
    "kernelspec": {
      "name": "python3",
      "display_name": "Python 3"
    },
    "language_info": {
      "name": "python"
    }
  },
  "cells": [
    {
      "cell_type": "markdown",
      "metadata": {
        "id": "view-in-github",
        "colab_type": "text"
      },
      "source": [
        "<a href=\"https://colab.research.google.com/github/JayP127/Climate_change_portfolio/blob/main/PortfolioOptimizationScipy.ipynb\" target=\"_parent\"><img src=\"https://colab.research.google.com/assets/colab-badge.svg\" alt=\"Open In Colab\"/></a>"
      ]
    },
    {
      "cell_type": "markdown",
      "source": [
        "# Portfolio for climate change problem- Minimizing cost of CO2 abatement"
      ],
      "metadata": {
        "id": "4GSABiIAcmor"
      }
    },
    {
      "cell_type": "code",
      "source": [
        "from scipy.optimize import minimize\n",
        "import numpy as np\n",
        "\n",
        "# Define the objective function\n",
        "def objective(w):\n",
        "    w1 = w[0] # Oat milk company\n",
        "    w2 = w[1] # Plant-based meat company\n",
        "    w3 = w[2] # Solar modules company\n",
        "    w4 = w[3] # Wind turbines company\n",
        "    w5 = w[4] # Bicycle company\n",
        "    return 1.0 / ((w1/111.0) + (w2/72.0) + (w3/15.0) + (w4/6.0) + (w5/6.0))\n",
        "\n",
        "# Define the equality constraint\n",
        "def constraint(w):\n",
        "    w1 = w[0] # Oat milk company\n",
        "    w2 = w[1] # Plant-based meat company\n",
        "    w3 = w[2] # Solar modules company\n",
        "    w4 = w[3] # Wind turbines company\n",
        "    w5 = w[4] # Bicycle company\n",
        "    return w1 + w2 + w3 + w4 + w5 - 1.0\n",
        "\n",
        "# Initial guess for w\n",
        "w0 = np.array([0.20, 0.20, 0.20, 0.20, 0.20])\n",
        "\n",
        "# Define the bounds and constraints\n",
        "bounds = [(0.03, 0.30) for _ in range(5)]\n",
        "constraints = {'type': 'eq', 'fun': constraint}\n",
        "\n",
        "# Perform the optimization\n",
        "result = minimize(objective, w0, method='SLSQP', bounds=bounds, constraints=constraints)\n"
      ],
      "metadata": {
        "id": "v1zP8ve7UhrD"
      },
      "execution_count": null,
      "outputs": []
    },
    {
      "cell_type": "code",
      "source": [
        "if result.success:\n",
        "    optimized_weights = result.x\n",
        "    print(\"Optimized weights:\", optimized_weights)\n",
        "    print(\"Objective function value at optimized weights:\", objective(optimized_weights))\n",
        "else:\n",
        "    print(\"Optimization did not converge, message: \", result.message)\n"
      ],
      "metadata": {
        "colab": {
          "base_uri": "https://localhost:8080/"
        },
        "id": "jntXfXFJVdZx",
        "outputId": "5313fbab-cf25-4b8d-8d3a-64d09b6aa16e"
      },
      "execution_count": null,
      "outputs": [
        {
          "output_type": "stream",
          "name": "stdout",
          "text": [
            "Optimized weights: [0.03 0.07 0.3  0.3  0.3 ]\n",
            "Objective function value at optimized weights: 8.24793337256667\n"
          ]
        }
      ]
    }
  ]
}