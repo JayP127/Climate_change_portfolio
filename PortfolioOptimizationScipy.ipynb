{
  "nbformat": 4,
  "nbformat_minor": 0,
  "metadata": {
    "colab": {
      "provenance": [],
      "authorship_tag": "ABX9TyMDvVJU+MsUX0amGt43ciLt",
      "include_colab_link": true
    },
    "kernelspec": {
      "name": "python3",
      "display_name": "Python 3"
    },
    "language_info": {
      "name": "python"
    }
  },
  "cells": [
    {
      "cell_type": "markdown",
      "metadata": {
        "id": "view-in-github",
        "colab_type": "text"
      },
      "source": [
        "<a href=\"https://colab.research.google.com/github/JayP127/Climate_change_portfolio/blob/main/PortfolioOptimizationScipy.ipynb\" target=\"_parent\"><img src=\"https://colab.research.google.com/assets/colab-badge.svg\" alt=\"Open In Colab\"/></a>"
      ]
    },
    {
      "cell_type": "markdown",
      "source": [
        "# Portfolio for climate change problem- Minimizing cost of CO2 abatement"
      ],
      "metadata": {
        "id": "4GSABiIAcmor"
      }
    },
    {
      "cell_type": "code",
      "source": [
        "from scipy.optimize import minimize\n",
        "import numpy as np\n",
        "\n",
        "# Dictionary of companies and their CERj values\n",
        "company_cerj = {\n",
        "    \"Oatly\": 52,\n",
        "    \"Beyond Meat\": 54,\n",
        "    \"First Solar\": 15,\n",
        "    \"Vestas\": 6,\n",
        "    \"Tesla\": 544,\n",
        "    \"Giant\": 44,\n",
        "    \"Goldwind\": 1.63,\n",
        "    \"Nordex\": 1.54,\n",
        "    \"Jinkosolar\": 2.43,\n",
        "    \"Trina Solar\": 0.80,\n",
        "    \"Longi Green\": 1.65,\n",
        "    \"Canadian Solar\": 0.47,\n",
        "    \"Nio\": 171,\n",
        "    \"Rivian\": 456,\n",
        "    \"Lucid\": 1697,\n",
        "    \"Xpeng\": 154,\n",
        "    \"Ormat\": 184,\n",
        "    \"Kingspan\": 84,\n",
        "    \"BlueEarth\": 87,\n",
        "    \"Orsted\": 248\n",
        "}\n",
        "\n",
        "# Extract companies and cerj_values from the dictionary\n",
        "companies = list(company_cerj.keys())\n",
        "cerj_values = list(company_cerj.values())\n",
        "\n",
        "# Define the objective function\n",
        "def objective(w):\n",
        "    return 1.0 / sum([w[i]/cerj_values[i] for i in range(len(w))])\n",
        "\n",
        "# Define the equality constraint\n",
        "def constraint(w):\n",
        "    return sum(w) - 1.0\n",
        "\n",
        "# Initial guess for w\n",
        "w0 = np.array([0.05] * len(companies))\n",
        "\n",
        "# Define the bounds and constraints\n",
        "bounds = [(0.01, 0.10) for _ in range(len(companies))]\n",
        "constraints = {'type': 'eq', 'fun': constraint}\n",
        "\n",
        "# Perform the optimization\n",
        "result = minimize(objective, w0, method='SLSQP', bounds=bounds, constraints=constraints)\n",
        "\n",
        "# Print the results\n",
        "if result.success:\n",
        "    optimized_weights = result.x\n",
        "    print(\"Optimization converged successfully!\")\n",
        "\n",
        "    # Print the table header\n",
        "    print(\"\\n+----------------+-------+--------+\")\n",
        "    print(\"| Company        | CERj  | Weight |\")\n",
        "    print(\"+----------------+-------+--------+\")\n",
        "\n",
        "    # Print each company, its CERj value, and its weight\n",
        "    for i, weight in enumerate(optimized_weights):\n",
        "        print(f\"| {companies[i]:<14} | {cerj_values[i]:<5} | {weight:.4f} |\")\n",
        "\n",
        "    print(\"+----------------+-------+--------+\")\n",
        "\n",
        "    print(\"\\nObjective function value at optimized weights:\", objective(optimized_weights))\n",
        "    print(f\"Number of iterations: {result.nit}\")\n",
        "    print(f\"Status: {result.status} ({result.message})\")\n",
        "else:\n",
        "    print(\"Optimization did not converge.\")\n",
        "    print(\"Message:\", result.message)\n"
      ],
      "metadata": {
        "id": "v1zP8ve7UhrD",
        "colab": {
          "base_uri": "https://localhost:8080/"
        },
        "outputId": "caf7dbf0-ef75-44b5-d6cb-77aa35099005"
      },
      "execution_count": 20,
      "outputs": [
        {
          "output_type": "stream",
          "name": "stdout",
          "text": [
            "Optimization converged successfully!\n",
            "\n",
            "+----------------+-------+--------+\n",
            "| Company        | CERj  | Weight |\n",
            "+----------------+-------+--------+\n",
            "| Oatly          | 52    | 0.0100 |\n",
            "| Beyond Meat    | 54    | 0.0100 |\n",
            "| First Solar    | 15    | 0.1000 |\n",
            "| Vestas         | 6     | 0.1000 |\n",
            "| Tesla          | 544   | 0.0100 |\n",
            "| Giant          | 44    | 0.0900 |\n",
            "| Goldwind       | 1.63  | 0.1000 |\n",
            "| Nordex         | 1.54  | 0.1000 |\n",
            "| Jinkosolar     | 2.43  | 0.1000 |\n",
            "| Trina Solar    | 0.8   | 0.1000 |\n",
            "| Longi Green    | 1.65  | 0.1000 |\n",
            "| Canadian Solar | 0.47  | 0.1000 |\n",
            "| Nio            | 171   | 0.0100 |\n",
            "| Rivian         | 456   | 0.0100 |\n",
            "| Lucid          | 1697  | 0.0100 |\n",
            "| Xpeng          | 154   | 0.0100 |\n",
            "| Ormat          | 184   | 0.0100 |\n",
            "| Kingspan       | 84    | 0.0100 |\n",
            "| BlueEarth      | 87    | 0.0100 |\n",
            "| Orsted         | 248   | 0.0100 |\n",
            "+----------------+-------+--------+\n",
            "\n",
            "Objective function value at optimized weights: 1.6890077336924818\n",
            "Number of iterations: 5\n",
            "Status: 0 (Optimization terminated successfully)\n"
          ]
        }
      ]
    }
  ]
}